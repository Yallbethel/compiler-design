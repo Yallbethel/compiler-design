{
  "nbformat": 4,
  "nbformat_minor": 0,
  "metadata": {
    "colab": {
      "provenance": [],
      "gpuType": "V28",
      "authorship_tag": "ABX9TyOvN7eJf1typH0uBWgu0S1h",
      "include_colab_link": true
    },
    "kernelspec": {
      "name": "python3",
      "display_name": "Python 3"
    },
    "language_info": {
      "name": "python"
    },
    "accelerator": "TPU"
  },
  "cells": [
    {
      "cell_type": "markdown",
      "metadata": {
        "id": "view-in-github",
        "colab_type": "text"
      },
      "source": [
        "<a href=\"https://colab.research.google.com/github/Yallbethel/Beta5/blob/main/Beta.ipynb\" target=\"_parent\"><img src=\"https://colab.research.google.com/assets/colab-badge.svg\" alt=\"Open In Colab\"/></a>"
      ]
    },
    {
      "cell_type": "code",
      "source": [
        "!git clone https://github.com/Yallbethel/Beta5.git\n",
        "\n"
      ],
      "metadata": {
        "colab": {
          "base_uri": "https://localhost:8080/"
        },
        "id": "p3dC8F4MuySs",
        "outputId": "a373c089-a5d9-49f2-a67a-5cc591332c30"
      },
      "execution_count": null,
      "outputs": [
        {
          "output_type": "stream",
          "name": "stdout",
          "text": [
            "Cloning into 'Beta5'...\n",
            "remote: Enumerating objects: 28, done.\u001b[K\n",
            "remote: Counting objects:   3% (1/28)\u001b[K\rremote: Counting objects:   7% (2/28)\u001b[K\rremote: Counting objects:  10% (3/28)\u001b[K\rremote: Counting objects:  14% (4/28)\u001b[K\rremote: Counting objects:  17% (5/28)\u001b[K\rremote: Counting objects:  21% (6/28)\u001b[K\rremote: Counting objects:  25% (7/28)\u001b[K\rremote: Counting objects:  28% (8/28)\u001b[K\rremote: Counting objects:  32% (9/28)\u001b[K\rremote: Counting objects:  35% (10/28)\u001b[K\rremote: Counting objects:  39% (11/28)\u001b[K\rremote: Counting objects:  42% (12/28)\u001b[K\rremote: Counting objects:  46% (13/28)\u001b[K\rremote: Counting objects:  50% (14/28)\u001b[K\rremote: Counting objects:  53% (15/28)\u001b[K\rremote: Counting objects:  57% (16/28)\u001b[K\rremote: Counting objects:  60% (17/28)\u001b[K\rremote: Counting objects:  64% (18/28)\u001b[K\rremote: Counting objects:  67% (19/28)\u001b[K\rremote: Counting objects:  71% (20/28)\u001b[K\rremote: Counting objects:  75% (21/28)\u001b[K\rremote: Counting objects:  78% (22/28)\u001b[K\rremote: Counting objects:  82% (23/28)\u001b[K\rremote: Counting objects:  85% (24/28)\u001b[K\rremote: Counting objects:  89% (25/28)\u001b[K\rremote: Counting objects:  92% (26/28)\u001b[K\rremote: Counting objects:  96% (27/28)\u001b[K\rremote: Counting objects: 100% (28/28)\u001b[K\rremote: Counting objects: 100% (28/28), done.\u001b[K\n",
            "remote: Compressing objects: 100% (16/16), done.\u001b[K\n",
            "remote: Total 28 (delta 5), reused 28 (delta 5), pack-reused 0 (from 0)\u001b[K\n",
            "Receiving objects: 100% (28/28), 8.42 MiB | 20.00 MiB/s, done.\n",
            "Resolving deltas: 100% (5/5), done.\n"
          ]
        }
      ]
    },
    {
      "cell_type": "code",
      "source": [
        "!apt-get install -y flex bison git"
      ],
      "metadata": {
        "colab": {
          "base_uri": "https://localhost:8080/"
        },
        "id": "ZKxKrmXXuyPy",
        "outputId": "b32933d2-417b-44dc-fbe5-2717e823b3ed"
      },
      "execution_count": null,
      "outputs": [
        {
          "output_type": "stream",
          "name": "stdout",
          "text": [
            "Reading package lists... Done\n",
            "Building dependency tree... Done\n",
            "Reading state information... Done\n",
            "git is already the newest version (1:2.34.1-1ubuntu1.12).\n",
            "The following additional packages will be installed:\n",
            "  libfl-dev libfl2\n",
            "Suggested packages:\n",
            "  bison-doc flex-doc\n",
            "The following NEW packages will be installed:\n",
            "  bison flex libfl-dev libfl2\n",
            "0 upgraded, 4 newly installed, 0 to remove and 29 not upgraded.\n",
            "Need to get 1,072 kB of archives.\n",
            "After this operation, 3,667 kB of additional disk space will be used.\n",
            "Get:1 http://archive.ubuntu.com/ubuntu jammy/main amd64 flex amd64 2.6.4-8build2 [307 kB]\n",
            "Get:2 http://archive.ubuntu.com/ubuntu jammy/main amd64 bison amd64 2:3.8.2+dfsg-1build1 [748 kB]\n",
            "Get:3 http://archive.ubuntu.com/ubuntu jammy/main amd64 libfl2 amd64 2.6.4-8build2 [10.7 kB]\n",
            "Get:4 http://archive.ubuntu.com/ubuntu jammy/main amd64 libfl-dev amd64 2.6.4-8build2 [6,236 B]\n",
            "Fetched 1,072 kB in 0s (4,150 kB/s)\n",
            "Selecting previously unselected package flex.\n",
            "(Reading database ... 126209 files and directories currently installed.)\n",
            "Preparing to unpack .../flex_2.6.4-8build2_amd64.deb ...\n",
            "Unpacking flex (2.6.4-8build2) ...\n",
            "Selecting previously unselected package bison.\n",
            "Preparing to unpack .../bison_2%3a3.8.2+dfsg-1build1_amd64.deb ...\n",
            "Unpacking bison (2:3.8.2+dfsg-1build1) ...\n",
            "Selecting previously unselected package libfl2:amd64.\n",
            "Preparing to unpack .../libfl2_2.6.4-8build2_amd64.deb ...\n",
            "Unpacking libfl2:amd64 (2.6.4-8build2) ...\n",
            "Selecting previously unselected package libfl-dev:amd64.\n",
            "Preparing to unpack .../libfl-dev_2.6.4-8build2_amd64.deb ...\n",
            "Unpacking libfl-dev:amd64 (2.6.4-8build2) ...\n",
            "Setting up flex (2.6.4-8build2) ...\n",
            "Setting up libfl2:amd64 (2.6.4-8build2) ...\n",
            "Setting up bison (2:3.8.2+dfsg-1build1) ...\n",
            "update-alternatives: using /usr/bin/bison.yacc to provide /usr/bin/yacc (yacc) in auto mode\n",
            "Setting up libfl-dev:amd64 (2.6.4-8build2) ...\n",
            "Processing triggers for man-db (2.10.2-1) ...\n",
            "Processing triggers for libc-bin (2.35-0ubuntu3.8) ...\n",
            "/sbin/ldconfig.real: /usr/local/lib/libhwloc.so.15 is not a symbolic link\n",
            "\n",
            "/sbin/ldconfig.real: /usr/local/lib/libtcm.so.1 is not a symbolic link\n",
            "\n",
            "/sbin/ldconfig.real: /usr/local/lib/libtbbmalloc_proxy.so.2 is not a symbolic link\n",
            "\n",
            "/sbin/ldconfig.real: /usr/local/lib/libtbbbind_2_0.so.3 is not a symbolic link\n",
            "\n",
            "/sbin/ldconfig.real: /usr/local/lib/libtbbmalloc.so.2 is not a symbolic link\n",
            "\n",
            "/sbin/ldconfig.real: /usr/local/lib/libtbb.so.12 is not a symbolic link\n",
            "\n",
            "/sbin/ldconfig.real: /usr/local/lib/libur_adapter_opencl.so.0 is not a symbolic link\n",
            "\n",
            "/sbin/ldconfig.real: /usr/local/lib/libtbbbind.so.3 is not a symbolic link\n",
            "\n",
            "/sbin/ldconfig.real: /usr/local/lib/libtcm_debug.so.1 is not a symbolic link\n",
            "\n",
            "/sbin/ldconfig.real: /usr/local/lib/libur_adapter_level_zero.so.0 is not a symbolic link\n",
            "\n",
            "/sbin/ldconfig.real: /usr/local/lib/libur_loader.so.0 is not a symbolic link\n",
            "\n",
            "/sbin/ldconfig.real: /usr/local/lib/libumf.so.0 is not a symbolic link\n",
            "\n",
            "/sbin/ldconfig.real: /usr/local/lib/libtbbbind_2_5.so.3 is not a symbolic link\n",
            "\n"
          ]
        }
      ]
    },
    {
      "cell_type": "code",
      "source": [
        "#  Create the Lex program file\n",
        "%%writefile text_analyzer.l\n",
        "%{\n",
        "#include <stdio.h>\n",
        "int chars = 0;\n",
        "int words = 0;\n",
        "int spaces = 0;\n",
        "int lines = 0;\n",
        "%}\n",
        "\n",
        "%%\n",
        "[a-zA-Z0-9]+   { words++; chars += yyleng; }  // Words (alphanumeric sequences)\n",
        "[ \\t]          { spaces++; chars++; }        // Spaces and tabs\n",
        "\\n             { lines++; chars++; }         // Newlines\n",
        ".              { chars++; }                  // All other characters\n",
        "%%\n",
        "\n",
        "int yywrap() { return 1; }\n",
        "\n",
        "int main(int argc, char *argv[]) {\n",
        "    if (argc > 1) {\n",
        "        yyin = fopen(argv[1], \"r\");\n",
        "        if (!yyin) {\n",
        "            fprintf(stderr, \"Error: Could not open %s\\n\", argv[1]);\n",
        "            return 1;\n",
        "        }\n",
        "    }\n",
        "\n",
        "    yylex(); // Run the lexer\n",
        "\n",
        "    printf(\"\\n=== TEXT ANALYSIS RESULTS ===\\n\");\n",
        "    printf(\"Total characters: %d\\n\", chars);\n",
        "    printf(\"Total words: %d\\n\", words);\n",
        "    printf(\"Total spaces: %d\\n\", spaces);\n",
        "    printf(\"Total lines: %d\\n\", lines);\n",
        "\n",
        "    if (argc > 1) fclose(yyin);\n",
        "    return 0;\n",
        "}"
      ],
      "metadata": {
        "colab": {
          "base_uri": "https://localhost:8080/"
        },
        "id": "T8VIejPr9gHR",
        "outputId": "839e40b1-f0c2-47be-a50c-0c012c947e30"
      },
      "execution_count": null,
      "outputs": [
        {
          "output_type": "stream",
          "name": "stdout",
          "text": [
            "Overwriting text_analyzer.l\n"
          ]
        }
      ]
    },
    {
      "cell_type": "code",
      "source": [
        "#  Compile the program\n",
        "!flex text_analyzer.l\n",
        "!gcc lex.yy.c -o text_analyzer -lfl\n"
      ],
      "metadata": {
        "id": "6YuRoA9m9qDj"
      },
      "execution_count": null,
      "outputs": []
    },
    {
      "cell_type": "code",
      "source": [
        "# Create a test file\n",
        "%%writefile test.txt\n",
        "This is a sample text file.\n",
        "It contains 3 lines of text,\n",
        "with  varying  spacing.\n",
        "\n",
        "Numbers like 123 are included!\n"
      ],
      "metadata": {
        "colab": {
          "base_uri": "https://localhost:8080/"
        },
        "id": "oCZIHDus9vhn",
        "outputId": "77e042a0-942d-4d68-aa17-651ce2cb6aaa"
      },
      "execution_count": null,
      "outputs": [
        {
          "output_type": "stream",
          "name": "stdout",
          "text": [
            "Writing test.txt\n"
          ]
        }
      ]
    },
    {
      "cell_type": "code",
      "source": [
        "# Run the analysis\n",
        "!./text_analyzer test.txt"
      ],
      "metadata": {
        "colab": {
          "base_uri": "https://localhost:8080/"
        },
        "id": "8kLgbduk93al",
        "outputId": "564e1374-98fc-48f8-b64c-b33addc4f92b"
      },
      "execution_count": null,
      "outputs": [
        {
          "output_type": "stream",
          "name": "stdout",
          "text": [
            "\n",
            "=== TEXT ANALYSIS RESULTS ===\n",
            "Total characters: 113\n",
            "Total words: 20\n",
            "Total spaces: 18\n",
            "Total lines: 5\n"
          ]
        }
      ]
    },
    {
      "cell_type": "code",
      "source": [
        "%%writefile email.l\n",
        "%{\n",
        "#include <stdio.h>\n",
        "#include <string.h>\n",
        "void validate_email(char *email);\n",
        "%}\n",
        "\n",
        "%%\n",
        "[a-zA-Z0-9._%+-]+@[a-zA-Z0-9.-]+\\.[a-zA-Z]{2,} {\n",
        "    printf(\"VALID: %s\\n\", yytext);\n",
        "}\n",
        ".+ {\n",
        "    printf(\"INVALID: %s - : \", yytext);\n",
        "    validate_email(yytext);\n",
        "}\n",
        "%%\n",
        "\n",
        "void validate_email(char *email) {\n",
        "    int at_count = 0;\n",
        "    char *ptr = email;\n",
        "\n",
        "    // Check for '@'\n",
        "    while (*ptr) {\n",
        "        if (*ptr == '@') at_count++;\n",
        "        ptr++;\n",
        "    }\n",
        "    if (at_count == 0) {\n",
        "        printf(\"Missing '@'\\n\");\n",
        "        return;\n",
        "    } else if (at_count > 1) {\n",
        "        printf(\"Multiple '@' symbols\\n\");\n",
        "        return;\n",
        "    }\n",
        "\n",
        "    // Check domain format (e.g., \"domain.com\")\n",
        "    char *dot = strrchr(email, '.');\n",
        "    if (!dot || dot == email || strlen(dot) < 3) {\n",
        "        printf(\"Invalid domain (e.g., must end with '.com')\\n\");\n",
        "        return;\n",
        "    }\n",
        "\n",
        "    printf(\"General syntax error\\n\");\n",
        "}\n",
        "\n",
        "int main() {\n",
        "    yylex();\n",
        "    return 0;\n",
        "}\n",
        "\n",
        "int yywrap() {\n",
        "    return 1;\n",
        "}"
      ],
      "metadata": {
        "colab": {
          "base_uri": "https://localhost:8080/"
        },
        "id": "4up7KQTp98sq",
        "outputId": "78fad2e2-87c6-4b4c-953d-4ebc96854965"
      },
      "execution_count": null,
      "outputs": [
        {
          "output_type": "stream",
          "name": "stdout",
          "text": [
            "Writing email.l\n"
          ]
        }
      ]
    },
    {
      "cell_type": "code",
      "source": [
        "!flex email.l\n",
        "!gcc lex.yy.c -o email -ll"
      ],
      "metadata": {
        "id": "vu2Mn4J7-W9o"
      },
      "execution_count": null,
      "outputs": []
    },
    {
      "cell_type": "code",
      "source": [
        "%%file emails.txt\n",
        "valid.email@example.com\n",
        "invalid@.com\n",
        "missing.at.sign\n",
        "another.valid@test.co.uk\n",
        "@missing.local.com\n",
        "dot.before@.domain.com\n",
        "short@a.a\n",
        "valid+alias@domain.org"
      ],
      "metadata": {
        "colab": {
          "base_uri": "https://localhost:8080/"
        },
        "id": "OAPt3PF_-iMw",
        "outputId": "71d15995-6e56-4522-8400-1560fc73fe11"
      },
      "execution_count": null,
      "outputs": [
        {
          "output_type": "stream",
          "name": "stdout",
          "text": [
            "Writing emails.txt\n"
          ]
        }
      ]
    },
    {
      "cell_type": "code",
      "source": [
        "!./email < emails.txt"
      ],
      "metadata": {
        "id": "C2aVqF0_FUbu",
        "colab": {
          "base_uri": "https://localhost:8080/"
        },
        "outputId": "a926bdfc-34d2-42d1-e6fc-ad2d356a461e"
      },
      "execution_count": null,
      "outputs": [
        {
          "output_type": "stream",
          "name": "stdout",
          "text": [
            "VALID: valid.email@example.com\n",
            "\n",
            "INVALID: invalid@.com - : General syntax error\n",
            "\n",
            "INVALID: missing.at.sign - : Missing '@'\n",
            "\n",
            "VALID: another.valid@test.co.uk\n",
            "\n",
            "INVALID: @missing.local.com - : General syntax error\n",
            "\n",
            "VALID: dot.before@.domain.com\n",
            "\n",
            "INVALID: short@a.a - : Invalid domain (e.g., must end with '.com')\n",
            "\n",
            "VALID: valid+alias@domain.org\n",
            "\n"
          ]
        }
      ]
    },
    {
      "cell_type": "code",
      "source": [
        "%%writefile password.l\n",
        "%{\n",
        "#include <stdio.h>\n",
        "#include <string.h>\n",
        "#include <stdbool.h>\n",
        "\n",
        "bool has_upper = false;\n",
        "bool has_lower = false;\n",
        "bool has_digit = false;\n",
        "bool has_special = false;\n",
        "%}\n",
        "\n",
        "%%\n",
        "^.{9,}$ {\n",
        "    // Check each character in the password\n",
        "    for(int i = 0; i < strlen(yytext); i++) {\n",
        "        if(yytext[i] >= 'A' && yytext[i] <= 'Z') has_upper = true;\n",
        "        else if(yytext[i] >= 'a' && yytext[i] <= 'z') has_lower = true;\n",
        "        else if(yytext[i] >= '0' && yytext[i] <= '9') has_digit = true;\n",
        "        else if(strchr(\"!@#$%^&*()_+-=[]{}|;':\\\",./<>?`~\", yytext[i])) has_special = true;\n",
        "    }\n",
        "\n",
        "    if(has_upper && has_lower && has_digit && has_special) {\n",
        "        printf(\"Valid password: %s\\n\", yytext);\n",
        "    } else {\n",
        "        printf(\"Invalid password: %s - Missing requirements:\\n\", yytext);\n",
        "        if(!has_upper) printf(\"  * At least one uppercase letter\\n\");\n",
        "        if(!has_lower) printf(\"  * At least one lowercase letter\\n\");\n",
        "        if(!has_digit) printf(\"  * At least one digit\\n\");\n",
        "        if(!has_special) printf(\"  * At least one special character\\n\");\n",
        "    }\n",
        "\n",
        "    // Reset flags for next password\n",
        "    has_upper = has_lower = has_digit = has_special = false;\n",
        "}\n",
        "\n",
        ".+ {\n",
        "    printf(\"Invalid password: %s - Must be longer than 8 characters\\n\", yytext);\n",
        "}\n",
        "%%\n",
        "\n",
        "int main(int argc, char **argv) {\n",
        "    if(argc > 1) {\n",
        "        FILE *file = fopen(argv[1], \"r\");\n",
        "        if(file) {\n",
        "            yyin = file;\n",
        "        } else {\n",
        "            printf(\"Could not open file %s\\n\", argv[1]);\n",
        "            return 1;\n",
        "        }\n",
        "    } else {\n",
        "        printf(\"Enter passwords to validate (one per line, Ctrl+D to end):\\n\");\n",
        "    }\n",
        "\n",
        "    yylex();\n",
        "\n",
        "    if(argc > 1) {\n",
        "        fclose(yyin);\n",
        "    }\n",
        "\n",
        "    return 0;\n",
        "}\n",
        "\n",
        "int yywrap() {\n",
        "    return 1;\n",
        "}"
      ],
      "metadata": {
        "colab": {
          "base_uri": "https://localhost:8080/"
        },
        "id": "hbgqqsNd-orf",
        "outputId": "f6f6ec12-e317-4d1a-d5e7-198b430b8234"
      },
      "execution_count": null,
      "outputs": [
        {
          "output_type": "stream",
          "name": "stdout",
          "text": [
            "Writing password.l\n"
          ]
        }
      ]
    },
    {
      "cell_type": "code",
      "source": [
        "!flex password.l"
      ],
      "metadata": {
        "id": "MvY8fn7G-60o"
      },
      "execution_count": null,
      "outputs": []
    },
    {
      "cell_type": "code",
      "source": [
        "!gcc lex.yy.c -o password_validator -lfl"
      ],
      "metadata": {
        "id": "21yBsUum_Flw"
      },
      "execution_count": null,
      "outputs": []
    },
    {
      "cell_type": "code",
      "source": [
        "%%file test_passwords.txt\n",
        "Password1!\n",
        "short\n",
        "NoDigitHere!\n",
        "NOLOWER1!\n",
        "noupper1!\n",
        "ValidPass123!\n",
        "AnotherGood1@"
      ],
      "metadata": {
        "colab": {
          "base_uri": "https://localhost:8080/"
        },
        "id": "-CRl-TdS_Jhg",
        "outputId": "8e73b0d5-4174-423f-f16f-cf27920ea690"
      },
      "execution_count": null,
      "outputs": [
        {
          "output_type": "stream",
          "name": "stdout",
          "text": [
            "Writing test_passwords.txt\n"
          ]
        }
      ]
    },
    {
      "cell_type": "code",
      "source": [
        "!./password_validator test_passwords.txt"
      ],
      "metadata": {
        "colab": {
          "base_uri": "https://localhost:8080/"
        },
        "id": "OJjhLc-WEIXx",
        "outputId": "6d342fd9-033e-46d9-e8ef-f14154bd8c76"
      },
      "execution_count": null,
      "outputs": [
        {
          "output_type": "stream",
          "name": "stdout",
          "text": [
            "Valid password: Password1!\n",
            "\n",
            "Invalid password: short - Must be longer than 8 characters\n",
            "\n",
            "Invalid password: NoDigitHere! - Missing requirements:\n",
            "  * At least one digit\n",
            "\n",
            "Invalid password: NOLOWER1! - Missing requirements:\n",
            "  * At least one lowercase letter\n",
            "\n",
            "Invalid password: noupper1! - Missing requirements:\n",
            "  * At least one uppercase letter\n",
            "\n",
            "Valid password: ValidPass123!\n",
            "\n",
            "Valid password: AnotherGood1@\n",
            "\n"
          ]
        }
      ]
    },
    {
      "cell_type": "code",
      "source": [
        "# Create the lexer file (calc.l)\n",
        "%%writefile calc.l\n",
        "%{\n",
        "#include \"calc.tab.h\"\n",
        "#include <stdio.h>\n",
        "void yyerror(char *);\n",
        "extern int yylval;\n",
        "%}\n",
        "\n",
        "%%\n",
        "[0-9]+          { yylval = atoi(yytext); return NUMBER; }\n",
        "[ \\t]           ; /* ignore whitespace */\n",
        "\\n              { return EOL; }\n",
        "\"+\"             { return ADD; }\n",
        "\"-\"             { return SUB; }\n",
        "\"*\"             { return MUL; }\n",
        "\"/\"             { return DIV; }\n",
        "\"(\"             { return LPAREN; }\n",
        "\")\"             { return RPAREN; }\n",
        ".               { yyerror(\"Invalid character\"); }\n",
        "%%\n",
        "\n",
        "int yywrap(void) { return 1; }"
      ],
      "metadata": {
        "colab": {
          "base_uri": "https://localhost:8080/"
        },
        "id": "krA3HrO6Aj_S",
        "outputId": "7735a763-15d0-4da0-fbd7-c0e664948c3e"
      },
      "execution_count": null,
      "outputs": [
        {
          "output_type": "stream",
          "name": "stdout",
          "text": [
            "Writing calc.l\n"
          ]
        }
      ]
    },
    {
      "cell_type": "code",
      "source": [
        "# Create the parser file (calc.y)\n",
        "%%writefile calc.y\n",
        "%{\n",
        "#include <stdio.h>\n",
        "#include <stdlib.h>\n",
        "#include <math.h>\n",
        "\n",
        "void yyerror(char *);\n",
        "int yylex(void);\n",
        "extern int yylval;\n",
        "%}\n",
        "\n",
        "%token NUMBER\n",
        "%token ADD SUB MUL DIV\n",
        "%token LPAREN RPAREN\n",
        "%token EOL\n",
        "\n",
        "%left ADD SUB\n",
        "%left MUL DIV\n",
        "\n",
        "%%\n",
        "input:    /* empty */\n",
        "        | input line\n",
        "        ;\n",
        "\n",
        "line:     EOL\n",
        "        | expr EOL   { printf(\" = %d\\n\", $1); }\n",
        "        | error EOL  { yyerror(\"Error\"); }\n",
        "        ;\n",
        "\n",
        "expr:     NUMBER           { $$ = $1; }\n",
        "        | expr ADD expr   { $$ = $1 + $3; }\n",
        "        | expr SUB expr   { $$ = $1 - $3; }\n",
        "        | expr MUL expr   { $$ = $1 * $3; }\n",
        "        | expr DIV expr   { if ($3 == 0) yyerror(\"Division by zero!\");\n",
        "                           else $$ = $1 / $3; }\n",
        "        | LPAREN expr RPAREN { $$ = $2; }\n",
        "        ;\n",
        "%%\n",
        "\n",
        "void yyerror(char *s) {\n",
        "    fprintf(stderr, \"Error: %s\\n\", s);\n",
        "}\n",
        "\n",
        "int main(void) {\n",
        "    printf(\"Simple Calculator - Enter expressions:\\n\");\n",
        "    yyparse();\n",
        "    return 0;\n",
        "}"
      ],
      "metadata": {
        "colab": {
          "base_uri": "https://localhost:8080/"
        },
        "id": "PrcM_TXZBEBQ",
        "outputId": "00547153-3474-4b4a-aa02-2feabed0ebdc"
      },
      "execution_count": null,
      "outputs": [
        {
          "output_type": "stream",
          "name": "stdout",
          "text": [
            "Writing calc.y\n"
          ]
        }
      ]
    },
    {
      "cell_type": "code",
      "source": [
        "# COMPILE ALL TOGETHER\n",
        "!bison -d calc.y\n",
        "!flex calc.l\n",
        "!gcc calc.tab.c lex.yy.c -o calc -lm"
      ],
      "metadata": {
        "id": "S7b1_lI8EGRw"
      },
      "execution_count": null,
      "outputs": []
    },
    {
      "cell_type": "code",
      "source": [
        "# TEST THE CALCULATOR\n",
        "print(\"\\nTESTING THE CALCULATOR:\")\n",
        "!echo \"3 + 4 * 2\" | ./calc\n",
        "!echo \"(3 + 4) * 2\" | ./calc\n",
        "!echo \"10 / 3\" | ./calc\n",
        "!echo \"10 / 0\" | ./calc"
      ],
      "metadata": {
        "colab": {
          "base_uri": "https://localhost:8080/"
        },
        "id": "cRwHs0CcELIO",
        "outputId": "a078f65a-5136-4f20-c93e-a3cc34bc9505"
      },
      "execution_count": null,
      "outputs": [
        {
          "output_type": "stream",
          "name": "stdout",
          "text": [
            "\n",
            "TESTING THE CALCULATOR:\n",
            "Simple Calculator - Enter expressions:\n",
            " = 11\n",
            "Simple Calculator - Enter expressions:\n",
            " = 14\n",
            "Simple Calculator - Enter expressions:\n",
            " = 3\n",
            "Simple Calculator - Enter expressions:\n",
            "Error: Division by zero!\n",
            " = 10\n"
          ]
        }
      ]
    },
    {
      "cell_type": "code",
      "source": [
        "\n",
        "%%writefile url_validator.l\n",
        "%{\n",
        "#include <stdio.h>\n",
        "#include <string.h>\n",
        "#include <stdbool.h>\n",
        "\n",
        "void validate_and_explain(const char *url);\n",
        "%}\n",
        "\n",
        "%%\n",
        "^https?:\\/\\/[a-zA-Z0-9\\-]+(\\.[a-zA-Z0-9\\-]+)+(\\/[a-zA-Z0-9\\-._~:\\/?%&=]*)?$ { printf(\"✅ VALID URL: %s\\n\", yytext); }\n",
        "^ftp:\\/\\/[a-zA-Z0-9\\-]+(\\.[a-zA-Z0-9\\-]+)+(\\/[a-zA-Z0-9\\-._~:\\/?%&=]*)?$    { printf(\"✅ VALID URL: %s\\n\", yytext); }\n",
        "^[a-zA-Z0-9\\-]+(\\.[a-zA-Z0-9\\-]+)+(\\/[a-zA-Z0-9\\-._~:\\/?%&=]*)?$           { printf(\"⚠️  WARNING: %s (Missing protocol)\\n\", yytext); }\n",
        ".+\\n                                                                        { validate_and_explain(yytext); }\n",
        "\\n                                                                          ;\n",
        "%%\n",
        "\n",
        "int yywrap() { return 1; }\n",
        "\n",
        "void validate_and_explain(const char *url) {\n",
        "    bool is_valid = true;\n",
        "    printf(\"\\n🔍 Analyzing: %s\\n\", url);\n",
        "\n",
        "    // Remove newline if present\n",
        "    char clean_url[256];\n",
        "    strncpy(clean_url, url, sizeof(clean_url));\n",
        "    clean_url[strcspn(clean_url, \"\\n\")] = '\\0';\n",
        "\n",
        "    // 1. Check protocol\n",
        "    if (strstr(clean_url, \"http://\") == NULL &&\n",
        "        strstr(clean_url, \"https://\") == NULL &&\n",
        "        strstr(clean_url, \"ftp://\") == NULL) {\n",
        "        printf(\"✖ Missing protocol (must start with http://, https:// or ftp://)\\n\");\n",
        "        is_valid = false;\n",
        "    }\n",
        "\n",
        "    // 2. Check domain structure\n",
        "    if (strchr(clean_url, '.') == NULL) {\n",
        "        printf(\"✖ Invalid domain (must contain at least one dot)\\n\");\n",
        "        is_valid = false;\n",
        "    }\n",
        "\n",
        "    // 3. Check for invalid characters\n",
        "    const char *invalid_chars = \" !@#$^&*()+=[]{}|;:'\\\"<>,\";\n",
        "    for (int i = 0; invalid_chars[i]; i++) {\n",
        "        if (strchr(clean_url, invalid_chars[i])) {\n",
        "            printf(\"✖ Contains invalid character: '%c'\\n\", invalid_chars[i]);\n",
        "            is_valid = false;\n",
        "        }\n",
        "    }\n",
        "\n",
        "    // 4. Check for spaces\n",
        "    if (strchr(clean_url, ' ')) {\n",
        "        printf(\"✖ Contains spaces (URLs cannot contain spaces)\\n\");\n",
        "        is_valid = false;\n",
        "    }\n",
        "\n",
        "    if (is_valid) {\n",
        "        printf(\"✅ VALID URL\\n\");\n",
        "    } else {\n",
        "        printf(\"❌ INVALID URL\\n\");\n",
        "    }\n",
        "}\n",
        "\n",
        "int main() {\n",
        "    printf(\"=== URL VALIDATOR ===\\n\");\n",
        "    printf(\"Enter URLs (one per line, Ctrl+D to finish):\\n\");\n",
        "    yylex();\n",
        "    return 0;\n",
        "}"
      ],
      "metadata": {
        "id": "Yoa9NbxZUaiN",
        "colab": {
          "base_uri": "https://localhost:8080/"
        },
        "outputId": "794d790d-a851-48fe-f239-15ff45a4df79"
      },
      "execution_count": null,
      "outputs": [
        {
          "output_type": "stream",
          "name": "stdout",
          "text": [
            "Writing url_validator.l\n"
          ]
        }
      ]
    },
    {
      "cell_type": "code",
      "source": [
        "\n",
        "!flex url_validator.l\n",
        "!gcc lex.yy.c -o validator -lfl\n",
        "\n"
      ],
      "metadata": {
        "id": "yvWiy3yZUto3"
      },
      "execution_count": null,
      "outputs": []
    },
    {
      "cell_type": "code",
      "source": [
        "%%file test_urls.txt\n",
        "https://www.google.com\n",
        "http://example.com/path?query=value\n",
        "ftp://files.example.org\n",
        "invalid-url\n",
        "example.com\n",
        "www.example.org/path/to/page.html\n",
        "not_a_url\n",
        "https://sub.domain.co.uk:8080/api/v1\n",
        "http://bad!char.com\n",
        "missing dot.com\n",
        "http://\n",
        "https://with space.com\n",
        "http://valid-but-missing.dot\n",
        "https://valid.com/with#hash\n",
        "http://valid.com/with?query=param"
      ],
      "metadata": {
        "colab": {
          "base_uri": "https://localhost:8080/"
        },
        "id": "stWwE1ewQtpw",
        "outputId": "28329070-99cc-4a8f-ee38-571313719c80"
      },
      "execution_count": null,
      "outputs": [
        {
          "output_type": "stream",
          "name": "stdout",
          "text": [
            "Writing test_urls.txt\n"
          ]
        }
      ]
    },
    {
      "cell_type": "code",
      "source": [
        "# Run tests\n",
        "!echo \"=== TESTING URL VALIDATOR ===\"\n",
        "!cat test_urls.txt | ./validator"
      ],
      "metadata": {
        "colab": {
          "base_uri": "https://localhost:8080/"
        },
        "id": "S8qpUv_NVxsX",
        "outputId": "6ef35142-60b7-4f80-f8bf-d854253fdb47"
      },
      "execution_count": null,
      "outputs": [
        {
          "output_type": "stream",
          "name": "stdout",
          "text": [
            "=== TESTING URL VALIDATOR ===\n",
            "=== URL VALIDATOR ===\n",
            "Enter URLs (one per line, Ctrl+D to finish):\n",
            "✅ VALID URL: https://www.google.com\n",
            "✅ VALID URL: http://example.com/path?query=value\n",
            "✅ VALID URL: ftp://files.example.org\n",
            "\n",
            "🔍 Analyzing: invalid-url\n",
            "\n",
            "✖ Missing protocol (must start with http://, https:// or ftp://)\n",
            "✖ Invalid domain (must contain at least one dot)\n",
            "❌ INVALID URL\n",
            "⚠️  WARNING: example.com (Missing protocol)\n",
            "⚠️  WARNING: www.example.org/path/to/page.html (Missing protocol)\n",
            "\n",
            "🔍 Analyzing: not_a_url\n",
            "\n",
            "✖ Missing protocol (must start with http://, https:// or ftp://)\n",
            "✖ Invalid domain (must contain at least one dot)\n",
            "❌ INVALID URL\n",
            "\n",
            "🔍 Analyzing: https://sub.domain.co.uk:8080/api/v1\n",
            "\n",
            "✖ Contains invalid character: ':'\n",
            "❌ INVALID URL\n",
            "\n",
            "🔍 Analyzing: http://bad!char.com\n",
            "\n",
            "✖ Contains invalid character: '!'\n",
            "✖ Contains invalid character: ':'\n",
            "❌ INVALID URL\n",
            "\n",
            "🔍 Analyzing: missing dot.com\n",
            "\n",
            "✖ Missing protocol (must start with http://, https:// or ftp://)\n",
            "✖ Contains invalid character: ' '\n",
            "✖ Contains spaces (URLs cannot contain spaces)\n",
            "❌ INVALID URL\n",
            "\n",
            "🔍 Analyzing: http://\n",
            "\n",
            "✖ Invalid domain (must contain at least one dot)\n",
            "✖ Contains invalid character: ':'\n",
            "❌ INVALID URL\n",
            "\n",
            "🔍 Analyzing: https://with space.com\n",
            "\n",
            "✖ Contains invalid character: ' '\n",
            "✖ Contains invalid character: ':'\n",
            "✖ Contains spaces (URLs cannot contain spaces)\n",
            "❌ INVALID URL\n",
            "✅ VALID URL: http://valid-but-missing.dot\n",
            "\n",
            "🔍 Analyzing: https://valid.com/with#hash\n",
            "\n",
            "✖ Contains invalid character: '#'\n",
            "✖ Contains invalid character: ':'\n",
            "❌ INVALID URL\n",
            "✅ VALID URL: http://valid.com/with?query=param\n"
          ]
        }
      ]
    },
    {
      "cell_type": "code",
      "source": [
        "# Create the corrected Lex program file\n",
        "%%writefile wdu_id_validator.l\n",
        "%{\n",
        "#include <stdio.h>\n",
        "#include <stdlib.h>\n",
        "#include <string.h>\n",
        "\n",
        "int current_year = 2017;  // Current year is 2017\n",
        "%}\n",
        "\n",
        "%%\n",
        "^WDU[0-9]{6}$ {\n",
        "    // Extract the 2-digit batch year (positions 3-4)\n",
        "    char year_part[3] = {yytext[3], yytext[4], '\\0'};\n",
        "    int batch_year = 2000 + atoi(year_part);\n",
        "\n",
        "    if (batch_year >= 2007 && batch_year <= 2017) {\n",
        "        printf(\"\\033[1;32mVALID WDU ID: %s\\033[0m\\n\", yytext);\n",
        "        printf(\"  Batch Year: %d\\n\", batch_year);\n",
        "        printf(\"  Student Number: %.4s\\n\", yytext+5);\n",
        "    } else if (batch_year < 2007) {\n",
        "        printf(\"\\033[1;31mINVALID WDU ID: %s\\033[0m\\n\", yytext);\n",
        "        printf(\"  Reason: Batch year %d is too old (valid: 2007-2017)\\n\", batch_year);\n",
        "    } else {\n",
        "        printf(\"\\033[1;31mINVALID WDU ID: %s\\033[0m\\n\", yytext);\n",
        "        printf(\"  Reason: Batch year %d is in the future (current year: 2017)\\n\", batch_year);\n",
        "    }\n",
        "}\n",
        "^WDU[^0-9].*$ {\n",
        "    printf(\"\\033[1;31mINVALID WDU ID: %s\\033[0m\\n\", yytext);\n",
        "    printf(\"  Reason: Must contain only digits after WDU\\n\");\n",
        "}\n",
        "^WDU[0-9]{1,5}$ {\n",
        "    printf(\"\\033[1;31mINVALID WDU ID: %s\\033[0m\\n\", yytext);\n",
        "    printf(\"  Reason: Too short - need 6 digits after WDU\\n\");\n",
        "}\n",
        "^WDU[0-9]{7,}$ {\n",
        "    printf(\"\\033[1;31mINVALID WDU ID: %s\\033[0m\\n\", yytext);\n",
        "    printf(\"  Reason: Too long - need exactly 6 digits after WDU\\n\");\n",
        "}\n",
        "^[^W].*$ {\n",
        "    printf(\"\\033[1;31mINVALID WDU ID: %s\\033[0m\\n\", yytext);\n",
        "    printf(\"  Reason: Must start with WDU\\n\");\n",
        "}\n",
        "^W[^D].*$ {\n",
        "    printf(\"\\033[1;31mINVALID WDU ID: %s\\033[0m\\n\", yytext);\n",
        "    printf(\"  Reason: Must start with WDU\\n\");\n",
        "}\n",
        "^WD[^U].*$ {\n",
        "    printf(\"\\033[1;31mINVALID WDU ID: %s\\033[0m\\n\", yytext);\n",
        "    printf(\"  Reason: Must start with WDU\\n\");\n",
        "}\n",
        ".|\\n {\n",
        "    printf(\"\\033[1;31mINVALID WDU ID: %s\\033[0m\\n\", yytext);\n",
        "    printf(\"  Reason: Invalid format\\n\");\n",
        "}\n",
        "%%\n",
        "\n",
        "int yywrap() { return 1; }\n",
        "\n",
        "int main(int argc, char *argv[]) {\n",
        "    // Test cases\n",
        "    char *test_ids[] = {\n",
        "        \"WDU071234\",  // Valid (2007)\n",
        "        \"WDU142536\",  // Valid (2014)\n",
        "        \"WDU171234\",  // Valid (2017)\n",
        "        \"WDU061234\",  // Invalid (2006)\n",
        "        \"WDU181234\",  // Invalid (2018)\n",
        "        \"WDU201234\",  // Invalid (future year)\n",
        "        \"WDU12345\",   // Invalid (too short)\n",
        "        \"WDU1234567\", // Invalid (too long)\n",
        "        \"XDU142536\",  // Invalid (wrong prefix)\n",
        "        NULL\n",
        "    };\n",
        "\n",
        "    printf(\"Woldia University Student ID Validator\\n\");\n",
        "    printf(\"Current Year: 2017 | Valid Batch Years: 2007-2017\\n\");\n",
        "    printf(\"Valid format: WDUYYXXXX (YY = last 2 digits of batch year)\\n\\n\");\n",
        "\n",
        "    for (int i = 0; test_ids[i] != NULL; i++) {\n",
        "        printf(\"Testing: %s\\n\", test_ids[i]);\n",
        "        // Add newline to input string\n",
        "        char input[20];\n",
        "        snprintf(input, sizeof(input), \"%s\\n\", test_ids[i]);\n",
        "        yy_scan_string(input);\n",
        "        yylex();\n",
        "        printf(\"\\n\");\n",
        "    }\n",
        "    return 0;\n",
        "}"
      ],
      "metadata": {
        "id": "76psyeBSEVyd",
        "colab": {
          "base_uri": "https://localhost:8080/"
        },
        "outputId": "73cd73b9-0463-4713-9ba6-69e848f311fd"
      },
      "execution_count": null,
      "outputs": [
        {
          "output_type": "stream",
          "name": "stdout",
          "text": [
            "Writing wdu_id_validator.l\n"
          ]
        }
      ]
    },
    {
      "cell_type": "code",
      "source": [
        "# Compile the program\n",
        "!flex wdu_id_validator.l\n",
        "!gcc lex.yy.c -o wdu_id_validator -lfl\n"
      ],
      "metadata": {
        "id": "AJP8b20MHmcq"
      },
      "execution_count": null,
      "outputs": []
    },
    {
      "cell_type": "code",
      "source": [
        "#  Run tests\n",
        "!./wdu_id_validator"
      ],
      "metadata": {
        "colab": {
          "base_uri": "https://localhost:8080/"
        },
        "id": "ntZLymFAHq-7",
        "outputId": "037fdee2-309f-4f1c-b53d-429beaf4fdf9"
      },
      "execution_count": null,
      "outputs": [
        {
          "output_type": "stream",
          "name": "stdout",
          "text": [
            "Woldia University Student ID Validator\n",
            "Current Year: 2017 | Valid Batch Years: 2007-2017\n",
            "Valid format: WDUYYXXXX (YY = last 2 digits of batch year)\n",
            "\n",
            "Testing: WDU071234\n",
            "\u001b[1;32mVALID WDU ID: WDU071234\u001b[0m\n",
            "  Batch Year: 2007\n",
            "  Student Number: 1234\n",
            "\u001b[1;31mINVALID WDU ID: \n",
            "\u001b[0m\n",
            "  Reason: Invalid format\n",
            "\n",
            "Testing: WDU142536\n",
            "\u001b[1;32mVALID WDU ID: WDU142536\u001b[0m\n",
            "  Batch Year: 2014\n",
            "  Student Number: 2536\n",
            "\u001b[1;31mINVALID WDU ID: \n",
            "\u001b[0m\n",
            "  Reason: Invalid format\n",
            "\n",
            "Testing: WDU171234\n",
            "\u001b[1;32mVALID WDU ID: WDU171234\u001b[0m\n",
            "  Batch Year: 2017\n",
            "  Student Number: 1234\n",
            "\u001b[1;31mINVALID WDU ID: \n",
            "\u001b[0m\n",
            "  Reason: Invalid format\n",
            "\n",
            "Testing: WDU061234\n",
            "\u001b[1;31mINVALID WDU ID: WDU061234\u001b[0m\n",
            "  Reason: Batch year 2006 is too old (valid: 2007-2017)\n",
            "\u001b[1;31mINVALID WDU ID: \n",
            "\u001b[0m\n",
            "  Reason: Invalid format\n",
            "\n",
            "Testing: WDU181234\n",
            "\u001b[1;31mINVALID WDU ID: WDU181234\u001b[0m\n",
            "  Reason: Batch year 2018 is in the future (current year: 2017)\n",
            "\u001b[1;31mINVALID WDU ID: \n",
            "\u001b[0m\n",
            "  Reason: Invalid format\n",
            "\n",
            "Testing: WDU201234\n",
            "\u001b[1;31mINVALID WDU ID: WDU201234\u001b[0m\n",
            "  Reason: Batch year 2020 is in the future (current year: 2017)\n",
            "\u001b[1;31mINVALID WDU ID: \n",
            "\u001b[0m\n",
            "  Reason: Invalid format\n",
            "\n",
            "Testing: WDU12345\n",
            "\u001b[1;31mINVALID WDU ID: WDU12345\u001b[0m\n",
            "  Reason: Too short - need 6 digits after WDU\n",
            "\u001b[1;31mINVALID WDU ID: \n",
            "\u001b[0m\n",
            "  Reason: Invalid format\n",
            "\n",
            "Testing: WDU1234567\n",
            "\u001b[1;31mINVALID WDU ID: WDU1234567\u001b[0m\n",
            "  Reason: Too long - need exactly 6 digits after WDU\n",
            "\u001b[1;31mINVALID WDU ID: \n",
            "\u001b[0m\n",
            "  Reason: Invalid format\n",
            "\n",
            "Testing: XDU142536\n",
            "\u001b[1;31mINVALID WDU ID: XDU142536\u001b[0m\n",
            "  Reason: Must start with WDU\n",
            "\u001b[1;31mINVALID WDU ID: \n",
            "\u001b[0m\n",
            "  Reason: Invalid format\n",
            "\n"
          ]
        }
      ]
    },
    {
      "cell_type": "code",
      "source": [
        "%%writefile language_recognition.l\n",
        "%{\n",
        "#include <stdio.h>\n",
        "%}\n",
        "\n",
        "%%\n",
        "\n",
        "[A-Za-z]+                             { printf(\"English/Latin: %s\\n\", yytext); }\n",
        "([\\xD0\\xD1][\\x80-\\xBF])+              { printf(\"Cyrillic: %s\\n\", yytext); }\n",
        "([\\xD8-\\xDB][\\x80-\\xBF])+             { printf(\"Arabic: %s\\n\", yytext); }\n",
        "([\\xE4\\xE5][\\x80-\\xBF])+ | ([\\xE6][\\x80-\\xA4])+  { printf(\"Chinese: %s\\n\", yytext); }\n",
        "([\\xE1][\\x88-\\x8F][\\x80-\\xBF])+       { printf(\"Amharic/Ge'ez: %s\\n\", yytext); }\n",
        "\n",
        ".|\\n { /* Ignore other characters */ }\n",
        "\n",
        "%%\n",
        "\n",
        "int main() {\n",
        "    yylex();\n",
        "    return 0;\n",
        "}\n",
        "\n",
        "int yywrap() {\n",
        "    return 1;\n",
        "}\n"
      ],
      "metadata": {
        "id": "uyFHF-UaGR1Y",
        "colab": {
          "base_uri": "https://localhost:8080/"
        },
        "outputId": "6334c256-7a55-4ae1-af20-50de00c1443d"
      },
      "execution_count": null,
      "outputs": [
        {
          "output_type": "stream",
          "name": "stdout",
          "text": [
            "Writing language_recognition.l\n"
          ]
        }
      ]
    },
    {
      "cell_type": "code",
      "source": [
        "!flex language_recognition.l\n",
        "!gcc lex.yy.c -o language_recognition"
      ],
      "metadata": {
        "id": "dKMsk0OOHH0C"
      },
      "execution_count": null,
      "outputs": []
    },
    {
      "cell_type": "code",
      "source": [
        "!echo \"Hello ሰላም Привет مرحبا 你好\" | ./language_recognition"
      ],
      "metadata": {
        "id": "0sJPnDjWHMHn",
        "colab": {
          "base_uri": "https://localhost:8080/"
        },
        "outputId": "dcfa1859-2831-4729-8b16-4405593d779a"
      },
      "execution_count": null,
      "outputs": [
        {
          "output_type": "stream",
          "name": "stdout",
          "text": [
            "English/Latin: Hello\n",
            "Amharic/Ge'ez: ሰላም\n",
            "Cyrillic: Привет\n",
            "Arabic: مرحبا\n",
            "Amharic/Ge'ez: �\n",
            "Amharic/Ge'ez: �\n"
          ]
        }
      ]
    },
    {
      "cell_type": "code",
      "source": [
        "%%writefile fidel_orders.l\n",
        "%{\n",
        "#include <stdio.h>\n",
        "%}\n",
        "\n",
        "%%\n",
        "\n",
        "(ሀ|ለ|ሐ|መ|ረ|ሰ|ቀ|በ|ተ|ነ|አ|ከ|ወ|ዘ|ደ|ገ|ጠ|ፀ) { printf(\"First Order (ግእዝ): %s\\n\", yytext); }\n",
        "(ሁ|ሉ|ሑ|ሙ|ሩ|ሱ|ቁ|ቡ|ቱ|ኑ|ኡ|ኩ|ዉ|ዙ|ዱ|ጉ|ጡ|ፁ) { printf(\"Second Order (ካእት): %s\\n\", yytext); }\n",
        "(ሂ|ሊ|ሒ|ሚ|ሲ|ቂ|ቢ|ቲ|ኒ|ኢ|ኪ|ዊ|ዚ|ዲ|ጊ|ጢ|ፂ) { printf(\"Third Order (ሳልስ): %s\\n\", yytext); }\n",
        "(ሃ|ላ|ሓ|ማ|ሳ|ቃ|ባ|ታ|ና|ኣ|ካ|ዋ|ዛ|ዳ|ጋ|ጣ|ፃ) { printf(\"Fourth Order (ራብዕ): %s\\n\", yytext); }\n",
        "(ሄ|ሌ|ሔ|ሜ|ሴ|ቄ|ቤ|ቴ|ኔ|ኤ|ኬ|ዌ|ዜ|ዴ|ጌ|ጤ|ፄ) { printf(\"Fifth Order (ኃምስ): %s\\n\", yytext); }\n",
        "(ህ|ል|ሕ|ም|ስ|ቅ|ብ|ት|ን|እ|ክ|ው|ዝ|ድ|ግ|ጥ|ፅ) { printf(\"Sixth Order (ሳድስ): %s\\n\", yytext); }\n",
        "(ሆ|ሎ|ሖ|ሞ|ሶ|ቆ|ቦ|ቶ|ኞ|ኦ|ኮ|ዎ|ዞ|ዶ|ጎ|ጦ|ፆ) { printf(\"Seventh Order (ሰብዕ): %s\\n\", yytext); }\n",
        "\n",
        ".|\\n { /* Ignore other characters */ }\n",
        "\n",
        "%%\n",
        "\n",
        "int main() {\n",
        "    yylex();\n",
        "    return 0;\n",
        "}\n",
        "\n",
        "int yywrap() {\n",
        "    return 1;\n",
        "}\n"
      ],
      "metadata": {
        "id": "247Z4ua2JrCl",
        "colab": {
          "base_uri": "https://localhost:8080/"
        },
        "outputId": "7f2c35fe-566f-4892-dc43-54901034686e"
      },
      "execution_count": null,
      "outputs": [
        {
          "output_type": "stream",
          "name": "stdout",
          "text": [
            "Writing fidel_orders.l\n"
          ]
        }
      ]
    },
    {
      "cell_type": "code",
      "source": [
        "!flex fidel_orders.l\n",
        "!gcc lex.yy.c -o fidel_orders"
      ],
      "metadata": {
        "id": "Z9s4j75SK-xC"
      },
      "execution_count": null,
      "outputs": []
    },
    {
      "cell_type": "code",
      "source": [
        "!echo \"ሀ ሁ ሂ ሃ ሄ ህ ሆ መ ሙ ሚ ማ ሜ ም ሞ\" | ./fidel_orders"
      ],
      "metadata": {
        "colab": {
          "base_uri": "https://localhost:8080/"
        },
        "id": "Ed16tX5aLB7X",
        "outputId": "efcd57fb-1f51-41df-ea11-7263997466d4"
      },
      "execution_count": null,
      "outputs": [
        {
          "output_type": "stream",
          "name": "stdout",
          "text": [
            "First Order (ግእዝ): ሀ\n",
            "Second Order (ካእት): ሁ\n",
            "Third Order (ሳልስ): ሂ\n",
            "Fourth Order (ራብዕ): ሃ\n",
            "Fifth Order (ኃምስ): ሄ\n",
            "Sixth Order (ሳድስ): ህ\n",
            "Seventh Order (ሰብዕ): ሆ\n",
            "First Order (ግእዝ): መ\n",
            "Second Order (ካእት): ሙ\n",
            "Third Order (ሳልስ): ሚ\n",
            "Fourth Order (ራብዕ): ማ\n",
            "Fifth Order (ኃምስ): ሜ\n",
            "Sixth Order (ሳድስ): ም\n",
            "Seventh Order (ሰብዕ): ሞ\n"
          ]
        }
      ]
    },
    {
      "cell_type": "code",
      "source": [
        "%%writefile longest_word.l\n",
        "%{\n",
        "#include <stdio.h>\n",
        "#include <string.h>\n",
        "\n",
        "int max_length = 0;\n",
        "char longest_word[100]; // Store the longest word\n",
        "%}\n",
        "\n",
        "%%\n",
        "\n",
        "[a-zA-Z]+ {\n",
        "    int len = strlen(yytext);\n",
        "    if (len > max_length) {\n",
        "        max_length = len;\n",
        "        strcpy(longest_word, yytext);\n",
        "    }\n",
        "}\n",
        "\n",
        "[^a-zA-Z]+  ; // Ignore non-word characters (spaces, punctuation)\n",
        "\n",
        "%%\n",
        "\n",
        "int main() {\n",
        "    yylex();\n",
        "    printf(\"Longest Word: %s\\n\", longest_word);\n",
        "    printf(\"Length: %d\\n\", max_length);\n",
        "    return 0;\n",
        "}\n",
        "\n",
        "int yywrap() {\n",
        "    return 1;\n",
        "}\n"
      ],
      "metadata": {
        "colab": {
          "base_uri": "https://localhost:8080/"
        },
        "id": "O45PEoVhLFdc",
        "outputId": "29105f48-88bc-4ff9-ba01-543f2b51560a"
      },
      "execution_count": null,
      "outputs": [
        {
          "output_type": "stream",
          "name": "stdout",
          "text": [
            "Writing longest_word.l\n"
          ]
        }
      ]
    },
    {
      "cell_type": "code",
      "source": [
        "!flex longest_word.l\n",
        "!gcc lex.yy.c -o longest_word"
      ],
      "metadata": {
        "id": "lI48we44cLjf"
      },
      "execution_count": null,
      "outputs": []
    },
    {
      "cell_type": "code",
      "source": [
        "!echo \"Lex is a lexical analyzer generator for building programs\" | ./longest_word"
      ],
      "metadata": {
        "colab": {
          "base_uri": "https://localhost:8080/"
        },
        "id": "ux8hVSuDcPd-",
        "outputId": "5614b11f-1eb6-43b3-e4af-56cdfbacadfb"
      },
      "execution_count": null,
      "outputs": [
        {
          "output_type": "stream",
          "name": "stdout",
          "text": [
            "Longest Word: generator\n",
            "Length: 9\n"
          ]
        }
      ]
    },
    {
      "cell_type": "code",
      "source": [
        "%%writefile count_numbers.l\n",
        "%{\n",
        "#include <stdio.h>\n",
        "\n",
        "int positive_count = 0, negative_count = 0;\n",
        "%}\n",
        "\n",
        "%%\n",
        "\n",
        "-?[0-9]+ {\n",
        "    if (yytext[0] == '-') {\n",
        "        negative_count++;\n",
        "        printf(\"Negative Number: %s\\n\", yytext);\n",
        "    } else {\n",
        "        positive_count++;\n",
        "        printf(\"Positive Number: %s\\n\", yytext);\n",
        "    }\n",
        "}\n",
        "\n",
        ".|\\n { /* Ignore non-numeric characters */ }\n",
        "\n",
        "%%\n",
        "\n",
        "int main() {\n",
        "    yylex();\n",
        "    printf(\"\\nTotal Positive Numbers: %d\\n\", positive_count);\n",
        "    printf(\"Total Negative Numbers: %d\\n\", negative_count);\n",
        "    return 0;\n",
        "}\n",
        "\n",
        "int yywrap() {\n",
        "    return 1;\n",
        "}\n"
      ],
      "metadata": {
        "colab": {
          "base_uri": "https://localhost:8080/"
        },
        "id": "5nrdDGf3cT6J",
        "outputId": "0088ef01-0dd0-4b1c-b690-df0aa7be4815"
      },
      "execution_count": null,
      "outputs": [
        {
          "output_type": "stream",
          "name": "stdout",
          "text": [
            "Writing count_numbers.l\n"
          ]
        }
      ]
    },
    {
      "cell_type": "code",
      "source": [
        "!flex count_numbers.l\n",
        "!gcc lex.yy.c -o count_numbers"
      ],
      "metadata": {
        "id": "i_c2yImuchJZ"
      },
      "execution_count": null,
      "outputs": []
    },
    {
      "cell_type": "code",
      "source": [
        "!echo \"45 -12 0 89 -56 -100 200\" | ./count_numbers"
      ],
      "metadata": {
        "colab": {
          "base_uri": "https://localhost:8080/"
        },
        "id": "xkGqyUZZcku2",
        "outputId": "6aa6e9d0-d42b-47a2-a04e-b4ded1819c16"
      },
      "execution_count": null,
      "outputs": [
        {
          "output_type": "stream",
          "name": "stdout",
          "text": [
            "Positive Number: 45\n",
            "Negative Number: -12\n",
            "Positive Number: 0\n",
            "Positive Number: 89\n",
            "Negative Number: -56\n",
            "Negative Number: -100\n",
            "Positive Number: 200\n",
            "\n",
            "Total Positive Numbers: 4\n",
            "Total Negative Numbers: 3\n"
          ]
        }
      ]
    },
    {
      "cell_type": "code",
      "source": [
        "%%writefile README.md\n",
        "# LEX Programs Submission\n",
        "**Name:** Bethlehem Yalelet\n",
        "**ID:** 145614\n",
        "\n",
        "\n",
        "\n",
        "[Open in Colab](https://colab.research.google.com/drive/1tCdMHcpVSG7TZE97wRzdUdSueyNBFXBD?usp=sharing)"
      ],
      "metadata": {
        "colab": {
          "base_uri": "https://localhost:8080/"
        },
        "id": "y99jnawAkfVF",
        "outputId": "b9313972-80b6-4dc4-e480-ca15667efc42"
      },
      "execution_count": 51,
      "outputs": [
        {
          "output_type": "stream",
          "name": "stdout",
          "text": [
            "Overwriting README.md\n"
          ]
        }
      ]
    }
  ]
}